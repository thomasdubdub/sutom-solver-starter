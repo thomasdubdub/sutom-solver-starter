{
 "cells": [
  {
   "cell_type": "markdown",
   "id": "b558a8a2-3230-4ef6-a72e-e435ca5d2152",
   "metadata": {},
   "source": [
    "# SUTOM dictionary"
   ]
  },
  {
   "cell_type": "markdown",
   "id": "2bc6f8eb-40e4-430d-ae2e-208e02c82153",
   "metadata": {},
   "source": [
    "### Test SUTOM dictionary"
   ]
  },
  {
   "cell_type": "code",
   "execution_count": 1,
   "id": "4d7b4f86-0994-4a2e-a8c5-a1fc49965aeb",
   "metadata": {},
   "outputs": [],
   "source": [
    "%load_ext lab_black"
   ]
  },
  {
   "cell_type": "code",
   "execution_count": 2,
   "id": "b9892de9-b1e8-40e4-a297-d67001b5dc42",
   "metadata": {},
   "outputs": [],
   "source": [
    "from sutom import Dictionary"
   ]
  },
  {
   "cell_type": "markdown",
   "id": "680fc9c9-77d5-4daa-be1d-a1718d10fffe",
   "metadata": {},
   "source": [
    "### Download latest word list here: https://framagit.org/JonathanMM/sutom/-/blob/main/ts/mots/listeMotsProposables.ts"
   ]
  },
  {
   "cell_type": "code",
   "execution_count": 4,
   "id": "b56b3c6a-b5e9-41d8-aa71-38bcddaca6f7",
   "metadata": {},
   "outputs": [
    {
     "name": "stdout",
     "output_type": "stream",
     "text": [
      "149861 words found\n"
     ]
    },
    {
     "data": {
      "text/plain": [
       "Dictionary including 149861 words (size 6 to 9) with alphabet of 26 letters"
      ]
     },
     "execution_count": 4,
     "metadata": {},
     "output_type": "execute_result"
    }
   ],
   "source": [
    "wds = set()\n",
    "with open(\"listeMotsProposables.ts\", encoding=\"utf-8\", mode=\"r\") as f:\n",
    "    for l in f.readlines()[2:-2]:\n",
    "        wds.add(l.strip().split(\",\")[0][1:-1])\n",
    "print(f\"{len(wds)} words found\")  # 05/03/22\n",
    "sutom_dictionary = Dictionary(wds)\n",
    "sutom_dictionary"
   ]
  },
  {
   "cell_type": "markdown",
   "id": "b4fda029-d9aa-4d96-b7be-cd36e9e44564",
   "metadata": {},
   "source": [
    "### Load French dictionary to compare words"
   ]
  },
  {
   "cell_type": "code",
   "execution_count": 8,
   "id": "4297c761-1d6c-4d76-bf8d-6ba092f6a6c1",
   "metadata": {},
   "outputs": [
    {
     "data": {
      "text/plain": [
       "Dictionary including 157844 words (size 6 to 9) with alphabet of 26 letters"
      ]
     },
     "execution_count": 8,
     "metadata": {},
     "output_type": "execute_result"
    }
   ],
   "source": [
    "sub_ods = Dictionary.from_txt(\"ods8.txt\")\n",
    "sub_ods"
   ]
  },
  {
   "cell_type": "markdown",
   "id": "64304597-6f16-47e7-b08d-409c3853f6ab",
   "metadata": {},
   "source": [
    "### Words in SUTOM dictionary not found in ODS"
   ]
  }
 ],
 "metadata": {
  "kernelspec": {
   "display_name": "Python 3 (ipykernel)",
   "language": "python",
   "name": "python3"
  },
  "language_info": {
   "codemirror_mode": {
    "name": "ipython",
    "version": 3
   },
   "file_extension": ".py",
   "mimetype": "text/x-python",
   "name": "python",
   "nbconvert_exporter": "python",
   "pygments_lexer": "ipython3",
   "version": "3.9.4"
  }
 },
 "nbformat": 4,
 "nbformat_minor": 5
}
