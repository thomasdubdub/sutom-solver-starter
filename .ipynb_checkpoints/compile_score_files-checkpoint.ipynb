{
 "cells": [
  {
   "cell_type": "markdown",
   "id": "92a5739e-8e37-4480-ac61-d3eed8e37ec2",
   "metadata": {},
   "source": [
    "# Load a scores table and compile tables to get top words in summary table"
   ]
  },
  {
   "cell_type": "code",
   "execution_count": 1,
   "id": "df3e728a-504d-4169-8f09-de06a9f2a0be",
   "metadata": {},
   "outputs": [],
   "source": [
    "%load_ext lab_black"
   ]
  },
  {
   "cell_type": "code",
   "execution_count": 2,
   "id": "b06d4e52-c98f-4b18-90e0-7218c443db11",
   "metadata": {},
   "outputs": [],
   "source": [
    "from pathlib import Path\n",
    "import pandas as pd"
   ]
  },
  {
   "cell_type": "markdown",
   "id": "d81de4d0-941c-4dfe-9aa8-adb5e9ba2a42",
   "metadata": {},
   "source": [
    "### Load a score tables (ex : 7 letters starting with A)"
   ]
  },
  {
   "cell_type": "code",
   "execution_count": 3,
   "id": "92eafa19-9425-4b8b-abe2-fadaf1cc4d9b",
   "metadata": {},
   "outputs": [
    {
     "data": {
      "text/html": [
       "<div>\n",
       "<style scoped>\n",
       "    .dataframe tbody tr th:only-of-type {\n",
       "        vertical-align: middle;\n",
       "    }\n",
       "\n",
       "    .dataframe tbody tr th {\n",
       "        vertical-align: top;\n",
       "    }\n",
       "\n",
       "    .dataframe thead th {\n",
       "        text-align: right;\n",
       "    }\n",
       "</style>\n",
       "<table border=\"1\" class=\"dataframe\">\n",
       "  <thead>\n",
       "    <tr style=\"text-align: right;\">\n",
       "      <th></th>\n",
       "      <th>0</th>\n",
       "      <th>1</th>\n",
       "    </tr>\n",
       "  </thead>\n",
       "  <tbody>\n",
       "    <tr>\n",
       "      <th>0</th>\n",
       "      <td>ABLATAS</td>\n",
       "      <td>75.299917</td>\n",
       "    </tr>\n",
       "    <tr>\n",
       "      <th>1</th>\n",
       "      <td>ALDOSES</td>\n",
       "      <td>81.599834</td>\n",
       "    </tr>\n",
       "    <tr>\n",
       "      <th>2</th>\n",
       "      <td>ANCRIEZ</td>\n",
       "      <td>52.674399</td>\n",
       "    </tr>\n",
       "    <tr>\n",
       "      <th>3</th>\n",
       "      <td>AUBIERS</td>\n",
       "      <td>45.900580</td>\n",
       "    </tr>\n",
       "    <tr>\n",
       "      <th>4</th>\n",
       "      <td>ANOMIES</td>\n",
       "      <td>39.144159</td>\n",
       "    </tr>\n",
       "  </tbody>\n",
       "</table>\n",
       "</div>"
      ],
      "text/plain": [
       "         0          1\n",
       "0  ABLATAS  75.299917\n",
       "1  ALDOSES  81.599834\n",
       "2  ANCRIEZ  52.674399\n",
       "3  AUBIERS  45.900580\n",
       "4  ANOMIES  39.144159"
      ]
     },
     "execution_count": 3,
     "metadata": {},
     "output_type": "execute_result"
    }
   ],
   "source": [
    "df = pd.read_csv(\"./scores/scores_7_A.csv\", header=None)\n",
    "df.head()"
   ]
  },
  {
   "cell_type": "code",
   "execution_count": 4,
   "id": "b6f2daed-7742-4011-9536-5dd08fd6ee73",
   "metadata": {},
   "outputs": [
    {
     "data": {
      "text/plain": [
       "[('ALAIRES', 22.56917978458989),\n",
       " ('ARAINES', 23.34382767191384),\n",
       " ('ANIERES', 23.95774647887324),\n",
       " ('ANURIES', 24.183098591549296),\n",
       " ('AIRATES', 25.383595691797847),\n",
       " ('ASTERIE', 25.728251864125934),\n",
       " ('ARTISAN', 26.06462303231152),\n",
       " ('ATRESIE', 26.594863297431647),\n",
       " ('ARSENIE', 26.75807787903894),\n",
       " ('ANERIES', 26.80447390223695)]"
      ]
     },
     "execution_count": 4,
     "metadata": {},
     "output_type": "execute_result"
    }
   ],
   "source": [
    "scores = dict(df.values)\n",
    "# top 10 to start with\n",
    "sorted(scores.items(), key=lambda x: x[1])[:10]"
   ]
  },
  {
   "cell_type": "markdown",
   "id": "588a571d-fdde-4435-af15-3e23e0ecb349",
   "metadata": {},
   "source": [
    "### Compile all tables"
   ]
  },
  {
   "cell_type": "code",
   "execution_count": 6,
   "id": "de000732-8fec-4be3-8651-445944eb3ee3",
   "metadata": {},
   "outputs": [
    {
     "name": "stdout",
     "output_type": "stream",
     "text": [
      "scores\\scores_7_A.csv\n",
      "scores\\scores_7_S.csv\n"
     ]
    }
   ],
   "source": [
    "p = Path(\".\")\n",
    "top_scores_list = []\n",
    "for file in p.glob(\"scores/*.csv\"):\n",
    "    print(Path(file))\n",
    "    df = pd.read_csv(Path(file), header=None)\n",
    "    top_scores_list.append(\n",
    "        {\n",
    "            \"nb_letters\": Path(file).stem[7],\n",
    "            \"first_letter\": Path(file).stem[9],\n",
    "            \"top_word\": df.loc[df[1].idxmin()][0],\n",
    "            \"score\": df.loc[df[1].idxmin()][1],\n",
    "        }\n",
    "    )"
   ]
  },
  {
   "cell_type": "code",
   "execution_count": 45,
   "id": "a0cc3b54-0639-4dda-8b76-3a669ca88d58",
   "metadata": {},
   "outputs": [
    {
     "data": {
      "text/html": [
       "<div>\n",
       "<style scoped>\n",
       "    .dataframe tbody tr th:only-of-type {\n",
       "        vertical-align: middle;\n",
       "    }\n",
       "\n",
       "    .dataframe tbody tr th {\n",
       "        vertical-align: top;\n",
       "    }\n",
       "\n",
       "    .dataframe thead th {\n",
       "        text-align: right;\n",
       "    }\n",
       "</style>\n",
       "<table border=\"1\" class=\"dataframe\">\n",
       "  <thead>\n",
       "    <tr style=\"text-align: right;\">\n",
       "      <th></th>\n",
       "      <th>nb_letters</th>\n",
       "      <th>first_letter</th>\n",
       "      <th>top_word</th>\n",
       "      <th>score</th>\n",
       "    </tr>\n",
       "  </thead>\n",
       "  <tbody>\n",
       "    <tr>\n",
       "      <th>0</th>\n",
       "      <td>7</td>\n",
       "      <td>A</td>\n",
       "      <td>ALAIRES</td>\n",
       "      <td>22.569180</td>\n",
       "    </tr>\n",
       "    <tr>\n",
       "      <th>1</th>\n",
       "      <td>7</td>\n",
       "      <td>S</td>\n",
       "      <td>SAURIES</td>\n",
       "      <td>14.187755</td>\n",
       "    </tr>\n",
       "  </tbody>\n",
       "</table>\n",
       "</div>"
      ],
      "text/plain": [
       "  nb_letters first_letter top_word      score\n",
       "0          7            A  ALAIRES  22.569180\n",
       "1          7            S  SAURIES  14.187755"
      ]
     },
     "execution_count": 45,
     "metadata": {},
     "output_type": "execute_result"
    }
   ],
   "source": [
    "compil = pd.DataFrame(top_scores_list)\n",
    "compil.to_csv(\"top_words.csv\", index=False)"
   ]
  },
  {
   "cell_type": "markdown",
   "id": "de736823-a289-495e-b7d0-122b4a505333",
   "metadata": {},
   "source": [
    "### Load and visualize compilation table (top words)"
   ]
  },
  {
   "cell_type": "code",
   "execution_count": 49,
   "id": "b4554423-7a8b-46cd-9f5d-6e40b1eb70e6",
   "metadata": {},
   "outputs": [
    {
     "data": {
      "text/html": [
       "<div>\n",
       "<style scoped>\n",
       "    .dataframe tbody tr th:only-of-type {\n",
       "        vertical-align: middle;\n",
       "    }\n",
       "\n",
       "    .dataframe tbody tr th {\n",
       "        vertical-align: top;\n",
       "    }\n",
       "\n",
       "    .dataframe thead th {\n",
       "        text-align: right;\n",
       "    }\n",
       "</style>\n",
       "<table border=\"1\" class=\"dataframe\">\n",
       "  <thead>\n",
       "    <tr style=\"text-align: right;\">\n",
       "      <th></th>\n",
       "      <th>nb_letters</th>\n",
       "      <th>first_letter</th>\n",
       "      <th>top_word</th>\n",
       "      <th>score</th>\n",
       "    </tr>\n",
       "  </thead>\n",
       "  <tbody>\n",
       "    <tr>\n",
       "      <th>0</th>\n",
       "      <td>7</td>\n",
       "      <td>A</td>\n",
       "      <td>ALAIRES</td>\n",
       "      <td>22.569180</td>\n",
       "    </tr>\n",
       "    <tr>\n",
       "      <th>1</th>\n",
       "      <td>7</td>\n",
       "      <td>S</td>\n",
       "      <td>SAURIES</td>\n",
       "      <td>14.187755</td>\n",
       "    </tr>\n",
       "  </tbody>\n",
       "</table>\n",
       "</div>"
      ],
      "text/plain": [
       "   nb_letters first_letter top_word      score\n",
       "0           7            A  ALAIRES  22.569180\n",
       "1           7            S  SAURIES  14.187755"
      ]
     },
     "execution_count": 49,
     "metadata": {},
     "output_type": "execute_result"
    }
   ],
   "source": [
    "tops = pd.read_csv(\n",
    "    \"top_words.csv\",\n",
    ")\n",
    "tops.head()"
   ]
  }
 ],
 "metadata": {
  "kernelspec": {
   "display_name": "Python 3 (ipykernel)",
   "language": "python",
   "name": "python3"
  },
  "language_info": {
   "codemirror_mode": {
    "name": "ipython",
    "version": 3
   },
   "file_extension": ".py",
   "mimetype": "text/x-python",
   "name": "python",
   "nbconvert_exporter": "python",
   "pygments_lexer": "ipython3",
   "version": "3.9.4"
  }
 },
 "nbformat": 4,
 "nbformat_minor": 5
}
