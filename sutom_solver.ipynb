{
 "cells": [
  {
   "cell_type": "markdown",
   "id": "d588bf8a-9774-4614-a472-e7d1ed7cda3b",
   "metadata": {},
   "source": [
    "# SUTOM solver"
   ]
  },
  {
   "cell_type": "markdown",
   "id": "9543aa7b-9fd4-4758-991a-a72db813985f",
   "metadata": {},
   "source": [
    "### Load SUTOM words as a (SUTOM) dictionary and determine remaining words from previous SUTOM answers"
   ]
  },
  {
   "cell_type": "code",
   "execution_count": 1,
   "id": "4d71ffb4-396e-493b-af4f-5110d981d00f",
   "metadata": {},
   "outputs": [],
   "source": [
    "%load_ext lab_black"
   ]
  },
  {
   "cell_type": "code",
   "execution_count": 2,
   "id": "3060f93e-2ec7-40cd-8a21-ee5984dac0b7",
   "metadata": {},
   "outputs": [],
   "source": [
    "from sutom import Dictionary"
   ]
  },
  {
   "cell_type": "markdown",
   "id": "50a18e08-4ef1-4d89-8c62-1d6c18bb82f7",
   "metadata": {},
   "source": [
    "### Download latest word list here: https://framagit.org/JonathanMM/sutom/-/blob/main/ts/mots/listeMotsProposables.ts"
   ]
  },
  {
   "cell_type": "code",
   "execution_count": 3,
   "id": "08486997-c6f7-4f1b-996c-04e8ede27f30",
   "metadata": {},
   "outputs": [
    {
     "name": "stdout",
     "output_type": "stream",
     "text": [
      "149861 words found\n"
     ]
    },
    {
     "data": {
      "text/plain": [
       "Dictionary including 149861 words (size 6 to 9) with alphabet of 26 letters"
      ]
     },
     "execution_count": 3,
     "metadata": {},
     "output_type": "execute_result"
    }
   ],
   "source": [
    "wds = set()\n",
    "with open(\"listeMotsProposables.ts\", encoding=\"utf-8\", mode=\"r\") as f:\n",
    "    for l in f.readlines()[2:-2]:\n",
    "        wds.add(l.strip().split(\",\")[0][1:-1])\n",
    "print(f\"{len(wds)} words found\")  # 05/03/22\n",
    "sutom_dictionary = Dictionary(wds)\n",
    "sutom_dictionary"
   ]
  },
  {
   "cell_type": "markdown",
   "id": "31c3427b-48cf-4cb4-a7f1-29903196d0ae",
   "metadata": {},
   "source": [
    "### Solve a SUTOM challenge (9 letters starting with M -> \"MINUSCULE\")"
   ]
  },
  {
   "cell_type": "code",
   "execution_count": 5,
   "id": "18dc5e8f-edd3-41e7-aa8c-f76e8d74c9eb",
   "metadata": {},
   "outputs": [],
   "source": [
    "nb_letters = 9\n",
    "first_letter = \"M\""
   ]
  },
  {
   "cell_type": "code",
   "execution_count": 6,
   "id": "8ab559d2-f106-4199-aa0d-c10a7ab8d47a",
   "metadata": {},
   "outputs": [
    {
     "name": "stdout",
     "output_type": "stream",
     "text": [
      "3016 words with 9 letters starting with M in SUTOM dictionary\n"
     ]
    }
   ],
   "source": [
    "print(\n",
    "    f\"{len(sutom_dictionary.sutom_words[nb_letters][first_letter])} words with 9 letters starting with M in SUTOM dictionary\"\n",
    ")"
   ]
  },
  {
   "cell_type": "code",
   "execution_count": 7,
   "id": "a6535c4d-4e0b-4f29-90fa-46545a7b0ace",
   "metadata": {},
   "outputs": [
    {
     "name": "stdout",
     "output_type": "stream",
     "text": [
      "5\n",
      "{'MINUSCULE', 'MONTICOLE', 'MONOCOQUE', 'MONTICULE', 'MONOCYCLE'}\n"
     ]
    }
   ],
   "source": [
    "sutom_answers = {\"MARCHANDE\": \"R**J**J*R\"}\n",
    "reste = sutom_dictionary.solve(nb_letters, first_letter, sutom_answers)\n",
    "print(len(reste))\n",
    "print(reste)"
   ]
  },
  {
   "cell_type": "code",
   "execution_count": 8,
   "id": "5574bd45-6b3a-4315-8a90-06ea4202e475",
   "metadata": {},
   "outputs": [
    {
     "name": "stdout",
     "output_type": "stream",
     "text": [
      "3\n",
      "{'MENSUELLE', 'MINISERIE', 'MINUSCULE'}\n"
     ]
    }
   ],
   "source": [
    "sutom_answers = {\"MONTAGNES\": \"R*R****JJ\"}\n",
    "reste = sutom_dictionary.solve(nb_letters, first_letter, sutom_answers)\n",
    "print(len(reste))\n",
    "print(reste)"
   ]
  },
  {
   "cell_type": "code",
   "execution_count": 9,
   "id": "069cd49d-fa19-44d9-925f-60c20616ed57",
   "metadata": {},
   "outputs": [
    {
     "name": "stdout",
     "output_type": "stream",
     "text": [
      "1\n",
      "{'MINUSCULE'}\n"
     ]
    }
   ],
   "source": [
    "sutom_answers = {\"MARCHANDE\": \"R**J**J*R\", \"MONTAGNES\": \"R*R****JJ\"}\n",
    "reste = sutom_dictionary.solve(nb_letters, first_letter, sutom_answers)\n",
    "print(len(reste))\n",
    "print(reste)"
   ]
  },
  {
   "cell_type": "markdown",
   "id": "0c886cd4-069c-4421-b66a-856062d8e967",
   "metadata": {},
   "source": [
    "### Fast computation of proposals with no repeated letters "
   ]
  },
  {
   "cell_type": "code",
   "execution_count": 10,
   "id": "b680748c-7af2-458d-bbb4-5a39164fda41",
   "metadata": {},
   "outputs": [
    {
     "name": "stdout",
     "output_type": "stream",
     "text": [
      "2\n",
      "{'MINUSCULE', 'MINCISSEZ'}\n",
      "Wall time: 1.98 ms\n"
     ]
    }
   ],
   "source": [
    "%%time\n",
    "sutom_answers = {\"MACHERONS\": \"R*J*J**JJ\"}\n",
    "reste = sutom_dictionary.solve(nb_letters, first_letter, sutom_answers, no_repetition=True) # no repeated letters in proposal\n",
    "print(len(reste))\n",
    "print(reste)"
   ]
  }
 ],
 "metadata": {
  "kernelspec": {
   "display_name": "Python 3 (ipykernel)",
   "language": "python",
   "name": "python3"
  },
  "language_info": {
   "codemirror_mode": {
    "name": "ipython",
    "version": 3
   },
   "file_extension": ".py",
   "mimetype": "text/x-python",
   "name": "python",
   "nbconvert_exporter": "python",
   "pygments_lexer": "ipython3",
   "version": "3.9.4"
  }
 },
 "nbformat": 4,
 "nbformat_minor": 5
}
