{
 "cells": [
  {
   "cell_type": "markdown",
   "id": "d588bf8a-9774-4614-a472-e7d1ed7cda3b",
   "metadata": {},
   "source": [
    "# SUTOM solver"
   ]
  },
  {
   "cell_type": "markdown",
   "id": "9543aa7b-9fd4-4758-991a-a72db813985f",
   "metadata": {},
   "source": [
    "### Load SUTOM words as a (SUTOM) dictionary and determine remaining words from previous SUTOM answers"
   ]
  },
  {
   "cell_type": "code",
   "execution_count": 1,
   "id": "4d71ffb4-396e-493b-af4f-5110d981d00f",
   "metadata": {},
   "outputs": [],
   "source": [
    "%load_ext lab_black"
   ]
  },
  {
   "cell_type": "code",
   "execution_count": 2,
   "id": "3060f93e-2ec7-40cd-8a21-ee5984dac0b7",
   "metadata": {},
   "outputs": [],
   "source": [
    "from sutom import Dictionary"
   ]
  },
  {
   "cell_type": "markdown",
   "id": "50a18e08-4ef1-4d89-8c62-1d6c18bb82f7",
   "metadata": {},
   "source": [
    "### Download latest word list here: https://framagit.org/JonathanMM/sutom/-/blob/main/ts/mots/listeMotsProposables.ts"
   ]
  },
  {
   "cell_type": "code",
   "execution_count": 3,
   "id": "08486997-c6f7-4f1b-996c-04e8ede27f30",
   "metadata": {},
   "outputs": [
    {
     "name": "stdout",
     "output_type": "stream",
     "text": [
      "149861 words found\n"
     ]
    },
    {
     "data": {
      "text/plain": [
       "Dictionary including 149861 words (size 6 to 9) with alphabet of 26 letters"
      ]
     },
     "execution_count": 3,
     "metadata": {},
     "output_type": "execute_result"
    }
   ],
   "source": [
    "wds = set()\n",
    "with open(\"listeMotsProposables.ts\", encoding=\"utf-8\", mode=\"r\") as f:\n",
    "    for l in f.readlines()[2:-2]:\n",
    "        wds.add(l.strip().split(\",\")[0][1:-1])\n",
    "print(f\"{len(wds)} words found\")  # 05/03/22\n",
    "sutom_dictionary = Dictionary(wds)\n",
    "sutom_dictionary"
   ]
  },
  {
   "cell_type": "markdown",
   "id": "7544033b-2612-4c4f-bf36-b5cd52f93340",
   "metadata": {},
   "source": [
    "### Analyze letters with highest occurence in SUTOM dictionary"
   ]
  },
  {
   "cell_type": "code",
   "execution_count": 4,
   "id": "d50d8c74-f9d0-4386-9131-083868f53543",
   "metadata": {},
   "outputs": [
    {
     "data": {
      "text/plain": [
       "{'E': 183036,\n",
       " 'A': 127335,\n",
       " 'S': 106785,\n",
       " 'I': 100737,\n",
       " 'R': 99745,\n",
       " 'T': 79788,\n",
       " 'N': 72099,\n",
       " 'O': 66497,\n",
       " 'U': 50538,\n",
       " 'L': 50299,\n",
       " 'C': 42862,\n",
       " 'M': 30979,\n",
       " 'P': 29603,\n",
       " 'D': 28842,\n",
       " 'G': 23489,\n",
       " 'B': 21602,\n",
       " 'F': 18098,\n",
       " 'H': 14858,\n",
       " 'V': 13927,\n",
       " 'Z': 13751,\n",
       " 'Q': 5521,\n",
       " 'Y': 5328,\n",
       " 'X': 4177,\n",
       " 'J': 3123,\n",
       " 'K': 1280,\n",
       " 'W': 379}"
      ]
     },
     "execution_count": 4,
     "metadata": {},
     "output_type": "execute_result"
    }
   ],
   "source": [
    "sutom_dictionary.letter_occurrences"
   ]
  },
  {
   "cell_type": "markdown",
   "id": "31c3427b-48cf-4cb4-a7f1-29903196d0ae",
   "metadata": {},
   "source": [
    "### Solve a SUTOM challenge (9 letters starting with M -> \"MINUSCULE\")"
   ]
  },
  {
   "cell_type": "code",
   "execution_count": 5,
   "id": "18dc5e8f-edd3-41e7-aa8c-f76e8d74c9eb",
   "metadata": {},
   "outputs": [],
   "source": [
    "nb_letters = 9\n",
    "first_letter = \"M\""
   ]
  },
  {
   "cell_type": "code",
   "execution_count": 6,
   "id": "8ab559d2-f106-4199-aa0d-c10a7ab8d47a",
   "metadata": {},
   "outputs": [
    {
     "name": "stdout",
     "output_type": "stream",
     "text": [
      "3016 words with 9 letters starting with M in SUTOM dictionary\n"
     ]
    }
   ],
   "source": [
    "print(\n",
    "    f\"{len(sutom_dictionary.sutom_words[nb_letters][first_letter])} words with 9 letters starting with M in SUTOM dictionary\"\n",
    ")"
   ]
  },
  {
   "cell_type": "code",
   "execution_count": 7,
   "id": "a6535c4d-4e0b-4f29-90fa-46545a7b0ace",
   "metadata": {},
   "outputs": [
    {
     "name": "stdout",
     "output_type": "stream",
     "text": [
      "5\n",
      "{'MINUSCULE', 'MONTICOLE', 'MONOCOQUE', 'MONTICULE', 'MONOCYCLE'}\n"
     ]
    }
   ],
   "source": [
    "sutom_answers = {\"MARCHANDE\": \"R**J**J*R\"}\n",
    "reste = sutom_dictionary.solve(nb_letters, first_letter, sutom_answers)\n",
    "print(len(reste))\n",
    "print(reste)"
   ]
  },
  {
   "cell_type": "code",
   "execution_count": 8,
   "id": "5574bd45-6b3a-4315-8a90-06ea4202e475",
   "metadata": {},
   "outputs": [
    {
     "name": "stdout",
     "output_type": "stream",
     "text": [
      "3\n",
      "{'MENSUELLE', 'MINISERIE', 'MINUSCULE'}\n"
     ]
    }
   ],
   "source": [
    "sutom_answers = {\"MONTAGNES\": \"R*R****JJ\"}\n",
    "reste = sutom_dictionary.solve(nb_letters, first_letter, sutom_answers)\n",
    "print(len(reste))\n",
    "print(reste)"
   ]
  },
  {
   "cell_type": "code",
   "execution_count": 9,
   "id": "069cd49d-fa19-44d9-925f-60c20616ed57",
   "metadata": {},
   "outputs": [
    {
     "name": "stdout",
     "output_type": "stream",
     "text": [
      "1\n",
      "{'MINUSCULE'}\n"
     ]
    }
   ],
   "source": [
    "sutom_answers = {\"MARCHANDE\": \"R**J**J*R\", \"MONTAGNES\": \"R*R****JJ\"}\n",
    "reste = sutom_dictionary.solve(nb_letters, first_letter, sutom_answers)\n",
    "print(len(reste))\n",
    "print(reste)"
   ]
  },
  {
   "cell_type": "markdown",
   "id": "0c886cd4-069c-4421-b66a-856062d8e967",
   "metadata": {},
   "source": [
    "### Fast computation of proposals with no repeated letters "
   ]
  },
  {
   "cell_type": "code",
   "execution_count": 10,
   "id": "b680748c-7af2-458d-bbb4-5a39164fda41",
   "metadata": {},
   "outputs": [
    {
     "name": "stdout",
     "output_type": "stream",
     "text": [
      "2\n",
      "{'MINUSCULE', 'MINCISSEZ'}\n",
      "Wall time: 1.98 ms\n"
     ]
    }
   ],
   "source": [
    "%%time\n",
    "sutom_answers = {\"MACHERONS\": \"R*J*J**JJ\"}\n",
    "reste = sutom_dictionary.solve(nb_letters, first_letter, sutom_answers, no_repetition=True) # no repeated letters in proposal\n",
    "print(len(reste))\n",
    "print(reste)"
   ]
  },
  {
   "cell_type": "code",
   "execution_count": null,
   "id": "36faa8e1-ea15-49ef-ae9d-029345adc936",
   "metadata": {},
   "outputs": [],
   "source": [
    "from collections import defaultdict, Counter\n",
    "from collections.abc import Set\n",
    "from itertools import combinations\n",
    "\n",
    "# SUTOM sizes\n",
    "WORD_MIN_SIZE = 6\n",
    "WORD_MAX_SIZE = 9\n",
    "\n",
    "class Dictionary(Set):\n",
    "    def __init__(self, words: set):\n",
    "        self.words = set()\n",
    "        for word in words:\n",
    "            wd = word.strip().upper() \n",
    "            if (len(wd) >= WORD_MIN_SIZE) and (len(wd) <= WORD_MAX_SIZE):\n",
    "                self.words.add(wd)\n",
    "        \n",
    "        self._init_variables()\n",
    "        \n",
    "    def _init_variables(self):\n",
    "        self.words_by_len = defaultdict(set)\n",
    "        self.sutom_words = defaultdict(\n",
    "            lambda: defaultdict(set)\n",
    "        )  # dictionary: key 1 = nb of letters key 2 = first letter\n",
    "        self._d = defaultdict(\n",
    "            lambda: defaultdict(set)\n",
    "        )  # dictionary: key 1 = nb of letters key 2 = sorted letters\n",
    "        self.letter_occurrences = defaultdict(int)\n",
    "        self.min_size, self.max_size = (WORD_MAX_SIZE, WORD_MIN_SIZE) \n",
    "        \n",
    "        self.counters = {}  \n",
    "        self.sutom_counters = {} # without first letter\n",
    "        alphabet_set = set()\n",
    "        for wd in self.words:\n",
    "            self.words_by_len[len(wd)].add(wd)\n",
    "            self.sutom_words[len(wd)][wd[0]].add(wd)\n",
    "            self._d[len(wd)][\"\".join(sorted(wd))].add(wd)\n",
    "            self.counters[wd] = Counter(wd)\n",
    "            self.sutom_counters[wd] = Counter(wd[1:])\n",
    "            if len(wd) > self.max_size:\n",
    "                self.max_size = len(wd)\n",
    "            if len(wd) < self.min_size:\n",
    "                self.min_size = len(wd)\n",
    "            alphabet_set.update(wd)\n",
    "            for l in wd:\n",
    "                self.letter_occurrences[l] +=1\n",
    "                \n",
    "        self.alphabet = sorted(alphabet_set)\n",
    "        self.max_letter_occurence = {k: max(v.values()) for k, v in self.counters.items()}\n",
    "        self.sutom_max_letter_occurence = {k: max(v.values()) for k, v in self.sutom_counters.items()}\n",
    "        self.letter_occurrences = dict(sorted(self.letter_occurrences.items(), key=lambda item: item[1], reverse= True))\n",
    "\n",
    "    @classmethod\n",
    "    def from_txt(cls, file_name: str, sep: str = \" \") -> \"Dictionary\":\n",
    "        file_set = set()\n",
    "        with open(file_name, encoding=\"utf-8\", mode=\"r\") as f:\n",
    "            for l in f.readlines():\n",
    "                wd_list = l.strip().split(sep)\n",
    "                for wd in wd_list:\n",
    "                    wd = wd.strip()\n",
    "                    if (len(wd) >= WORD_MIN_SIZE) and (len(wd) <= WORD_MAX_SIZE):\n",
    "                        file_set.add(wd.upper())\n",
    "\n",
    "        return cls(file_set)\n",
    "    \n",
    "    def __iter__(self):\n",
    "        return iter(self.words)\n",
    "\n",
    "    def __contains__(self, value: str):\n",
    "        wd = value.strip().upper()\n",
    "        return wd in self.words\n",
    "\n",
    "    def __len__(self):\n",
    "        return len(self.words)\n",
    "\n",
    "    def __add__(self, other):\n",
    "        return Dictionary(self.words | other.words)\n",
    "        \n",
    "    def __repr__(self) -> str:\n",
    "        return f\"Dictionary including {len(self)} words (size {self.min_size} to {self.max_size}) with alphabet of {len(self.alphabet)} letters\"\n",
    "\n",
    "    def save(self, output_file_name):\n",
    "        with open(output_file_name, \"w\") as f:\n",
    "            for wd in self.words:\n",
    "                f.write(wd)\n",
    "                f.write('\\n')\n",
    "    \n",
    "    def wordlist(\n",
    "        self,\n",
    "        nb_letters=0,\n",
    "        with_letters=\"\",\n",
    "        without_letters=\"\",\n",
    "        startswith=\"\",\n",
    "        endswith=\"\",\n",
    "    ):  # get list of all words with 'nb_letters' letters and including the letters 'letters'\n",
    "        wds = self.words if nb_letters < 2 else self.words_by_len[nb_letters]\n",
    "\n",
    "        l = []\n",
    "        for wd in wds:\n",
    "            with_letter = True\n",
    "            for letter in set(with_letters):\n",
    "                if wd.count(letter.upper()) < with_letters.count(letter):\n",
    "                    with_letter = False\n",
    "            without_letter = True\n",
    "            for letter in without_letters:\n",
    "                if wd.count(letter.upper()) > 0:\n",
    "                    without_letter = False\n",
    "\n",
    "            if all(\n",
    "                [\n",
    "                    with_letter,\n",
    "                    without_letter,\n",
    "                    (wd.startswith(startswith)),\n",
    "                    (wd.endswith(endswith)),\n",
    "                ]\n",
    "            ):\n",
    "                l.append(wd)\n",
    "        return sorted(l)\n",
    "\n",
    "    def subwords(self, wd: str) -> list:\n",
    "        subwds = []\n",
    "        for i in range(len(wd), 1, -1):\n",
    "            lst = []\n",
    "            for j in combinations(wd, i):\n",
    "                swd = \"\".join(sorted(j))\n",
    "                if swd in self._d[i].keys():\n",
    "                    lst.extend(self._d[i][swd])\n",
    "            subwds.extend(sorted(lst))\n",
    "        return subwds\n",
    "\n",
    "    def palindromes(self) -> list:\n",
    "        pals = [wd for wd in self.words if wd[::-1] == wd]\n",
    "        return sorted(pals)\n",
    "\n",
    "    def anagram(\n",
    "        self, letters: str\n",
    "    ) -> list:  # get all valid words formed by all the letters in 'wd'\n",
    "        o_letters = \"\".join(sorted(letters))\n",
    "        wds = self._d[len(letters)].get(o_letters, set())\n",
    "        wds.discard(letters)  # if input letters was a valid word\n",
    "        return sorted(wds)\n",
    "\n",
    "    def cousin(self, wd: str) -> list:\n",
    "        # return list of cousins of word wd\n",
    "        cousins = []\n",
    "        for i in range(len(wd)):\n",
    "            for letter in self.alphabet:\n",
    "                c = wd[:i] + letter + wd[i + 1 :]\n",
    "                if (c != wd) and (c in self.words):\n",
    "                    cousins.append(c)\n",
    "        return cousins\n",
    "\n",
    "    def suffixes(self, wd: str):  # return list of suffixes\n",
    "        suffixes = []\n",
    "        for key in self._d.keys():\n",
    "            if key > len(wd):\n",
    "                for k, v in self._d[key].items():\n",
    "                    if all(letter in k for letter in wd):\n",
    "                        for word in self._d[key][k]:\n",
    "                            if word[: len(wd)] == wd:\n",
    "                                suffixes.append(word)\n",
    "        return sorted(suffixes)\n",
    "\n",
    "    def anagram_plus_one(\n",
    "        self, wd: str\n",
    "    ) -> dict:  # return dict letter - new word with only one different letter\n",
    "        m = defaultdict(list)\n",
    "        anagrams = []\n",
    "        for letter in self.alphabet:\n",
    "            wds = self.anagram(wd + letter)\n",
    "            if len(wds) > 0:\n",
    "                m[letter].extend(wds)\n",
    "        return m\n",
    "    \n",
    "    def get_answer(self, candidate, target): # SUTOM answer\n",
    "        rep =  [\"*\" for l in candidate]\n",
    "        \n",
    "        # Number of infos already given on each letter\n",
    "        infos_right, infos_wrong = (defaultdict(int), defaultdict(int))\n",
    "        remaining_indices = []\n",
    "        \n",
    "        for i,l in enumerate(candidate):\n",
    "            if target[i]==l:\n",
    "                rep[i] = \"R\" # ROUGE = right position\n",
    "                infos_right[l] += 1\n",
    "            else:\n",
    "                remaining_indices.append(i)\n",
    "                \n",
    "        for i in remaining_indices:\n",
    "            l = candidate[i]\n",
    "            if self.counters[target][l] > infos_right[l] + infos_wrong[l]:\n",
    "                    rep[i] = \"J\" # JAUNE = wrong position\n",
    "                    infos_wrong[l] += 1    \n",
    "        \n",
    "        return ''.join(rep)\n",
    "    \n",
    "    def _right_spots_filter(self, wordlist, right_spots):\n",
    "        filter_list = wordlist.copy()\n",
    "        for i, l in right_spots.items():\n",
    "            if i > 0: # first spot useless\n",
    "                for wd in list(filter_list):\n",
    "                    if wd[i] != l:\n",
    "                        filter_list.discard(wd)\n",
    "        return filter_list\n",
    "    \n",
    "    def _get_right_spots(self, sutom_answers):\n",
    "        return {i:proposal[i] for proposal, answer in sutom_answers.items() for i, l in enumerate(answer) if l == \"R\"}\n",
    "    \n",
    "    def _wrong_spot_filter(self, wordlist, wrong_spots):\n",
    "        filter_list = wordlist.copy()\n",
    "        for i, l in wrong_spots.items():\n",
    "            for wd in list(filter_list):\n",
    "                if l not in wd[1:]:\n",
    "                    filter_list.discard(wd)\n",
    "                elif wd[i] == l: # should be \"R\"\n",
    "                    filter_list.discard(wd)\n",
    "        return filter_list\n",
    "    \n",
    "    def _get_wrong_spots(self, sutom_answers):\n",
    "        return {i:proposal[i] for proposal, answer in sutom_answers.items() for i, l in enumerate(answer) if l == \"J\"}\n",
    "    \n",
    "    def _absent_letters_filter(self, wordlist, absent_letters):\n",
    "        filter_list = wordlist.copy()\n",
    "        for letter in absent_letters:\n",
    "            for wd in list(filter_list):\n",
    "                if letter in wd[1:]: # not the first letter\n",
    "                    filter_list.discard(wd)\n",
    "        return filter_list\n",
    "    \n",
    "    def _get_absent_letters(self, first_letter, sutom_answers, no_repetition=False):\n",
    "        absent_letters = set()\n",
    "        if no_repetition:\n",
    "            return {l for (proposal,answer) in sutom_answers.items() for (i,l) in enumerate(proposal) if answer[i] == \"*\"}\n",
    "        for proposal, answer in sutom_answers.items():\n",
    "            for i, l in enumerate(proposal): # all letters incl. the first letter\n",
    "                if answer[i] == \"*\":\n",
    "                    if self.max_letter_occurence[proposal] == 1:\n",
    "                        absent_letters.add(l)\n",
    "                    elif self.counters[proposal][l] == 1:\n",
    "                        absent_letters.add(l)\n",
    "                    elif (self.counters[proposal][l] == 2) and (l == first_letter):\n",
    "                        absent_letters.add(l)\n",
    "        return absent_letters\n",
    "    \n",
    "    def solve_from_list(self, wordlist, sutom_answers):\n",
    "        final_wordlist = wordlist.copy()\n",
    "        for proposal, answer in sutom_answers.items():\n",
    "            for wd in list(final_wordlist):\n",
    "                if self.get_answer(proposal, wd) != answer:\n",
    "                    final_wordlist.discard(wd)\n",
    "        return final_wordlist\n",
    "    \n",
    "    def solve(self, nb_letters, first_letter, sutom_answers, no_repetition=False):\n",
    "        initial_wordlist = self.sutom_words[nb_letters][first_letter]\n",
    "        right_spots = self._get_right_spots(sutom_answers)\n",
    "        wrong_spots = self._get_wrong_spots(sutom_answers)\n",
    "        absent_letters = self._get_absent_letters(first_letter, sutom_answers, no_repetition=no_repetition)\n",
    "        \n",
    "        wdlist1 = self._right_spots_filter(initial_wordlist, right_spots)\n",
    "        wdlist2 = self._wrong_spot_filter(wdlist1, wrong_spots)\n",
    "        wdlist3 = self._absent_letters_filter(wdlist2, absent_letters)\n",
    "        \n",
    "        if no_repetition:\n",
    "            return wdlist3\n",
    "        return self.solve_from_list(wdlist3, sutom_answers)\n",
    "        \n",
    "    \n",
    "  \n",
    "        \n",
    "            "
   ]
  }
 ],
 "metadata": {
  "kernelspec": {
   "display_name": "Python 3 (ipykernel)",
   "language": "python",
   "name": "python3"
  },
  "language_info": {
   "codemirror_mode": {
    "name": "ipython",
    "version": 3
   },
   "file_extension": ".py",
   "mimetype": "text/x-python",
   "name": "python",
   "nbconvert_exporter": "python",
   "pygments_lexer": "ipython3",
   "version": "3.9.4"
  }
 },
 "nbformat": 4,
 "nbformat_minor": 5
}
