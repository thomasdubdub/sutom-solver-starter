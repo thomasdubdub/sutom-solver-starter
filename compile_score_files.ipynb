{
 "cells": [
  {
   "cell_type": "markdown",
   "id": "92a5739e-8e37-4480-ac61-d3eed8e37ec2",
   "metadata": {},
   "source": [
    "# Load a scores table and compile tables to get top words in summary table"
   ]
  },
  {
   "cell_type": "code",
   "execution_count": 1,
   "id": "df3e728a-504d-4169-8f09-de06a9f2a0be",
   "metadata": {},
   "outputs": [],
   "source": [
    "%load_ext lab_black"
   ]
  },
  {
   "cell_type": "code",
   "execution_count": 2,
   "id": "b06d4e52-c98f-4b18-90e0-7218c443db11",
   "metadata": {},
   "outputs": [],
   "source": [
    "from pathlib import Path\n",
    "import pandas as pd"
   ]
  },
  {
   "cell_type": "markdown",
   "id": "d81de4d0-941c-4dfe-9aa8-adb5e9ba2a42",
   "metadata": {},
   "source": [
    "### Load a score tables (ex : 7 letters starting with A)"
   ]
  },
  {
   "cell_type": "code",
   "execution_count": 3,
   "id": "92eafa19-9425-4b8b-abe2-fadaf1cc4d9b",
   "metadata": {},
   "outputs": [
    {
     "data": {
      "text/html": [
       "<div>\n",
       "<style scoped>\n",
       "    .dataframe tbody tr th:only-of-type {\n",
       "        vertical-align: middle;\n",
       "    }\n",
       "\n",
       "    .dataframe tbody tr th {\n",
       "        vertical-align: top;\n",
       "    }\n",
       "\n",
       "    .dataframe thead th {\n",
       "        text-align: right;\n",
       "    }\n",
       "</style>\n",
       "<table border=\"1\" class=\"dataframe\">\n",
       "  <thead>\n",
       "    <tr style=\"text-align: right;\">\n",
       "      <th></th>\n",
       "      <th>0</th>\n",
       "      <th>1</th>\n",
       "    </tr>\n",
       "  </thead>\n",
       "  <tbody>\n",
       "    <tr>\n",
       "      <th>0</th>\n",
       "      <td>LANGERAIT</td>\n",
       "      <td>8.464555</td>\n",
       "    </tr>\n",
       "    <tr>\n",
       "      <th>1</th>\n",
       "      <td>LUTTERONT</td>\n",
       "      <td>17.473605</td>\n",
       "    </tr>\n",
       "    <tr>\n",
       "      <th>2</th>\n",
       "      <td>LANGERENT</td>\n",
       "      <td>7.826546</td>\n",
       "    </tr>\n",
       "    <tr>\n",
       "      <th>3</th>\n",
       "      <td>LISTERIEZ</td>\n",
       "      <td>7.081448</td>\n",
       "    </tr>\n",
       "    <tr>\n",
       "      <th>4</th>\n",
       "      <td>LAMPERAIT</td>\n",
       "      <td>14.081448</td>\n",
       "    </tr>\n",
       "  </tbody>\n",
       "</table>\n",
       "</div>"
      ],
      "text/plain": [
       "           0          1\n",
       "0  LANGERAIT   8.464555\n",
       "1  LUTTERONT  17.473605\n",
       "2  LANGERENT   7.826546\n",
       "3  LISTERIEZ   7.081448\n",
       "4  LAMPERAIT  14.081448"
      ]
     },
     "execution_count": 3,
     "metadata": {},
     "output_type": "execute_result"
    }
   ],
   "source": [
    "df = pd.read_csv(\"./scores/scores_9_L.csv\", header=None)\n",
    "df.head()"
   ]
  },
  {
   "cell_type": "code",
   "execution_count": 4,
   "id": "b6f2daed-7742-4011-9536-5dd08fd6ee73",
   "metadata": {},
   "outputs": [
    {
     "data": {
      "text/plain": [
       "[('LATINISEE', 3.6621417797888394),\n",
       " ('LAITERIES', 3.998491704374057),\n",
       " ('LINEAIRES', 4.0633484162895925),\n",
       " ('LAUREATES', 4.079939668174962),\n",
       " ('LINGEATES', 4.099547511312217),\n",
       " ('LACINIEES', 4.230769230769231),\n",
       " ('LANGUITES', 4.242835595776772),\n",
       " ('LAINERIES', 4.318250377073906),\n",
       " ('LATINISER', 4.375565610859729),\n",
       " ('LAITIERES', 4.469079939668175)]"
      ]
     },
     "execution_count": 4,
     "metadata": {},
     "output_type": "execute_result"
    }
   ],
   "source": [
    "scores = dict(df.values)\n",
    "# top 10 to start with\n",
    "sorted(scores.items(), key=lambda x: x[1])[:10]"
   ]
  },
  {
   "cell_type": "code",
   "execution_count": 5,
   "id": "2343354f-642d-4126-b54f-9484d08a3083",
   "metadata": {},
   "outputs": [
    {
     "data": {
      "text/plain": [
       "4.769230769230769"
      ]
     },
     "execution_count": 5,
     "metadata": {},
     "output_type": "execute_result"
    }
   ],
   "source": [
    "scores[\"LAITERONS\"]"
   ]
  },
  {
   "cell_type": "code",
   "execution_count": 6,
   "id": "5b76d966-24d4-4a1b-8ead-f69071ae93da",
   "metadata": {},
   "outputs": [
    {
     "data": {
      "text/html": [
       "<div>\n",
       "<style scoped>\n",
       "    .dataframe tbody tr th:only-of-type {\n",
       "        vertical-align: middle;\n",
       "    }\n",
       "\n",
       "    .dataframe tbody tr th {\n",
       "        vertical-align: top;\n",
       "    }\n",
       "\n",
       "    .dataframe thead th {\n",
       "        text-align: right;\n",
       "    }\n",
       "</style>\n",
       "<table border=\"1\" class=\"dataframe\">\n",
       "  <thead>\n",
       "    <tr style=\"text-align: right;\">\n",
       "      <th></th>\n",
       "      <th>0</th>\n",
       "      <th>1</th>\n",
       "    </tr>\n",
       "  </thead>\n",
       "  <tbody>\n",
       "    <tr>\n",
       "      <th>0</th>\n",
       "      <td>DECATIR</td>\n",
       "      <td>29.431068</td>\n",
       "    </tr>\n",
       "    <tr>\n",
       "      <th>1</th>\n",
       "      <td>DUPATES</td>\n",
       "      <td>46.662136</td>\n",
       "    </tr>\n",
       "    <tr>\n",
       "      <th>2</th>\n",
       "      <td>DRAYONS</td>\n",
       "      <td>71.728155</td>\n",
       "    </tr>\n",
       "    <tr>\n",
       "      <th>3</th>\n",
       "      <td>DEPARIE</td>\n",
       "      <td>33.233010</td>\n",
       "    </tr>\n",
       "    <tr>\n",
       "      <th>4</th>\n",
       "      <td>DANOISE</td>\n",
       "      <td>46.687379</td>\n",
       "    </tr>\n",
       "  </tbody>\n",
       "</table>\n",
       "</div>"
      ],
      "text/plain": [
       "         0          1\n",
       "0  DECATIR  29.431068\n",
       "1  DUPATES  46.662136\n",
       "2  DRAYONS  71.728155\n",
       "3  DEPARIE  33.233010\n",
       "4  DANOISE  46.687379"
      ]
     },
     "execution_count": 6,
     "metadata": {},
     "output_type": "execute_result"
    }
   ],
   "source": [
    "df2 = pd.read_csv(\"./scores/scores_7_D.csv\", header=None)\n",
    "df2.head()"
   ]
  },
  {
   "cell_type": "code",
   "execution_count": 7,
   "id": "15e855ea-d32a-4967-a4e8-dbf6f3164e11",
   "metadata": {},
   "outputs": [
    {
     "data": {
      "text/plain": [
       "[('DETIRES', 21.13203883495145),\n",
       " ('DERAIES', 22.50679611650485),\n",
       " ('DELIRES', 23.08446601941748),\n",
       " ('DETISER', 23.457281553398055),\n",
       " ('DETIRAS', 23.57961165048544),\n",
       " ('DERATES', 23.75145631067961),\n",
       " ('DELIRAS', 24.59126213592233),\n",
       " ('DESIRAT', 25.059223300970874),\n",
       " ('DORATES', 25.30388349514563),\n",
       " ('DILATES', 26.05631067961165)]"
      ]
     },
     "execution_count": 7,
     "metadata": {},
     "output_type": "execute_result"
    }
   ],
   "source": [
    "scores2 = dict(df2.values)\n",
    "# top 10 to start with\n",
    "sorted(scores2.items(), key=lambda x: x[1])[:10]"
   ]
  },
  {
   "cell_type": "markdown",
   "id": "588a571d-fdde-4435-af15-3e23e0ecb349",
   "metadata": {},
   "source": [
    "### Compile all tables"
   ]
  },
  {
   "cell_type": "code",
   "execution_count": 8,
   "id": "de000732-8fec-4be3-8651-445944eb3ee3",
   "metadata": {},
   "outputs": [
    {
     "name": "stdout",
     "output_type": "stream",
     "text": [
      "scores\\scores_6_A.csv\n",
      "scores\\scores_6_B.csv\n",
      "scores\\scores_6_C.csv\n",
      "scores\\scores_6_D.csv\n",
      "scores\\scores_6_E.csv\n",
      "scores\\scores_6_F.csv\n",
      "scores\\scores_6_G.csv\n",
      "scores\\scores_6_H.csv\n",
      "scores\\scores_6_I.csv\n",
      "scores\\scores_6_J.csv\n",
      "scores\\scores_6_L.csv\n",
      "scores\\scores_6_M.csv\n",
      "scores\\scores_6_N.csv\n",
      "scores\\scores_6_O.csv\n",
      "scores\\scores_6_P.csv\n",
      "scores\\scores_6_R.csv\n",
      "scores\\scores_6_S.csv\n",
      "scores\\scores_6_T.csv\n",
      "scores\\scores_6_U.csv\n",
      "scores\\scores_6_V.csv\n",
      "scores\\scores_7_A.csv\n",
      "scores\\scores_7_B.csv\n",
      "scores\\scores_7_C.csv\n",
      "scores\\scores_7_D.csv\n",
      "scores\\scores_7_E.csv\n",
      "scores\\scores_7_F.csv\n",
      "scores\\scores_7_G.csv\n",
      "scores\\scores_7_H.csv\n",
      "scores\\scores_7_I.csv\n",
      "scores\\scores_7_J.csv\n",
      "scores\\scores_7_L.csv\n",
      "scores\\scores_7_M.csv\n",
      "scores\\scores_7_N.csv\n",
      "scores\\scores_7_O.csv\n",
      "scores\\scores_7_P.csv\n",
      "scores\\scores_7_R.csv\n",
      "scores\\scores_7_S.csv\n",
      "scores\\scores_7_T.csv\n",
      "scores\\scores_7_U.csv\n",
      "scores\\scores_7_V.csv\n",
      "scores\\scores_8_A.csv\n",
      "scores\\scores_8_B.csv\n",
      "scores\\scores_8_C.csv\n",
      "scores\\scores_8_D.csv\n",
      "scores\\scores_8_E.csv\n",
      "scores\\scores_8_F.csv\n",
      "scores\\scores_8_G.csv\n",
      "scores\\scores_8_H.csv\n",
      "scores\\scores_8_I.csv\n",
      "scores\\scores_8_J.csv\n",
      "scores\\scores_8_L.csv\n",
      "scores\\scores_8_M.csv\n",
      "scores\\scores_8_N.csv\n",
      "scores\\scores_8_O.csv\n",
      "scores\\scores_8_P.csv\n",
      "scores\\scores_8_R.csv\n",
      "scores\\scores_8_S.csv\n",
      "scores\\scores_8_T.csv\n",
      "scores\\scores_8_U.csv\n",
      "scores\\scores_8_V.csv\n",
      "scores\\scores_9_A.csv\n",
      "scores\\scores_9_B.csv\n",
      "scores\\scores_9_F.csv\n",
      "scores\\scores_9_H.csv\n",
      "scores\\scores_9_I.csv\n",
      "scores\\scores_9_J.csv\n",
      "scores\\scores_9_L.csv\n",
      "scores\\scores_9_N.csv\n",
      "scores\\scores_9_O.csv\n"
     ]
    }
   ],
   "source": [
    "p = Path(\".\")\n",
    "top_scores_list = []\n",
    "for file in p.glob(\"scores/*.csv\"):\n",
    "    print(Path(file))\n",
    "    df = pd.read_csv(Path(file), header=None)\n",
    "    top_scores_list.append(\n",
    "        {\n",
    "            \"nb_letters\": Path(file).stem[7],\n",
    "            \"first_letter\": Path(file).stem[9],\n",
    "            \"top_word\": df.loc[df[1].idxmin()][0],\n",
    "            \"score\": df.loc[df[1].idxmin()][1],\n",
    "        }\n",
    "    )"
   ]
  },
  {
   "cell_type": "code",
   "execution_count": 9,
   "id": "a0cc3b54-0639-4dda-8b76-3a669ca88d58",
   "metadata": {},
   "outputs": [],
   "source": [
    "compil = pd.DataFrame(top_scores_list)\n",
    "compil.to_csv(\"top_words.csv\", index=False)"
   ]
  },
  {
   "cell_type": "markdown",
   "id": "de736823-a289-495e-b7d0-122b4a505333",
   "metadata": {},
   "source": [
    "### Load and visualize compilation table (top words)"
   ]
  },
  {
   "cell_type": "code",
   "execution_count": 10,
   "id": "b4554423-7a8b-46cd-9f5d-6e40b1eb70e6",
   "metadata": {},
   "outputs": [
    {
     "data": {
      "text/html": [
       "<div>\n",
       "<style scoped>\n",
       "    .dataframe tbody tr th:only-of-type {\n",
       "        vertical-align: middle;\n",
       "    }\n",
       "\n",
       "    .dataframe tbody tr th {\n",
       "        vertical-align: top;\n",
       "    }\n",
       "\n",
       "    .dataframe thead th {\n",
       "        text-align: right;\n",
       "    }\n",
       "</style>\n",
       "<table border=\"1\" class=\"dataframe\">\n",
       "  <thead>\n",
       "    <tr style=\"text-align: right;\">\n",
       "      <th></th>\n",
       "      <th>nb_letters</th>\n",
       "      <th>first_letter</th>\n",
       "      <th>top_word</th>\n",
       "      <th>score</th>\n",
       "    </tr>\n",
       "  </thead>\n",
       "  <tbody>\n",
       "    <tr>\n",
       "      <th>0</th>\n",
       "      <td>6</td>\n",
       "      <td>A</td>\n",
       "      <td>ARITES</td>\n",
       "      <td>25.873428</td>\n",
       "    </tr>\n",
       "    <tr>\n",
       "      <th>1</th>\n",
       "      <td>6</td>\n",
       "      <td>B</td>\n",
       "      <td>BAISER</td>\n",
       "      <td>21.942135</td>\n",
       "    </tr>\n",
       "    <tr>\n",
       "      <th>2</th>\n",
       "      <td>6</td>\n",
       "      <td>C</td>\n",
       "      <td>CARIES</td>\n",
       "      <td>29.722573</td>\n",
       "    </tr>\n",
       "    <tr>\n",
       "      <th>3</th>\n",
       "      <td>6</td>\n",
       "      <td>D</td>\n",
       "      <td>DERAIE</td>\n",
       "      <td>17.918736</td>\n",
       "    </tr>\n",
       "    <tr>\n",
       "      <th>4</th>\n",
       "      <td>6</td>\n",
       "      <td>E</td>\n",
       "      <td>ETIRES</td>\n",
       "      <td>25.875585</td>\n",
       "    </tr>\n",
       "  </tbody>\n",
       "</table>\n",
       "</div>"
      ],
      "text/plain": [
       "   nb_letters first_letter top_word      score\n",
       "0           6            A   ARITES  25.873428\n",
       "1           6            B   BAISER  21.942135\n",
       "2           6            C   CARIES  29.722573\n",
       "3           6            D   DERAIE  17.918736\n",
       "4           6            E   ETIRES  25.875585"
      ]
     },
     "execution_count": 10,
     "metadata": {},
     "output_type": "execute_result"
    }
   ],
   "source": [
    "tops = pd.read_csv(\n",
    "    \"top_words.csv\",\n",
    ")\n",
    "tops.head()"
   ]
  }
 ],
 "metadata": {
  "kernelspec": {
   "display_name": "Python 3 (ipykernel)",
   "language": "python",
   "name": "python3"
  },
  "language_info": {
   "codemirror_mode": {
    "name": "ipython",
    "version": 3
   },
   "file_extension": ".py",
   "mimetype": "text/x-python",
   "name": "python",
   "nbconvert_exporter": "python",
   "pygments_lexer": "ipython3",
   "version": "3.9.4"
  }
 },
 "nbformat": 4,
 "nbformat_minor": 5
}
