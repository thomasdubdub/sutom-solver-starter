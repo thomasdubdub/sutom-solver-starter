{
 "cells": [
  {
   "cell_type": "markdown",
   "id": "5cc0f227-c856-4c70-a67c-f9ba7e9cbae7",
   "metadata": {},
   "source": [
    "# SUTOM starter"
   ]
  },
  {
   "cell_type": "markdown",
   "id": "b49b5116-b4e8-4fb7-b12e-8547b61519dc",
   "metadata": {},
   "source": [
    "### Determine the optimal first word to enter for a given SUTOM challenge "
   ]
  },
  {
   "cell_type": "code",
   "execution_count": 1,
   "id": "780e1694-caee-455e-a8ad-8f566dcb28fb",
   "metadata": {},
   "outputs": [],
   "source": [
    "%load_ext lab_black"
   ]
  },
  {
   "cell_type": "code",
   "execution_count": 2,
   "id": "10dc470e-c284-4b26-8496-90de83041bc7",
   "metadata": {},
   "outputs": [],
   "source": [
    "from tqdm import tqdm\n",
    "from collections import defaultdict\n",
    "import pandas as pd\n",
    "from sutom import Dictionary"
   ]
  },
  {
   "cell_type": "markdown",
   "id": "81a12b50-0899-4311-96bd-98a72420bf40",
   "metadata": {},
   "source": [
    "### Download latest word list here: https://framagit.org/JonathanMM/sutom/-/blob/main/ts/mots/listeMotsProposables.ts"
   ]
  },
  {
   "cell_type": "code",
   "execution_count": 3,
   "id": "c04796f9-9b83-43e6-a1a9-5b047527e4d5",
   "metadata": {},
   "outputs": [
    {
     "data": {
      "text/plain": [
       "Dictionary including 149861 words (size 6 to 9) with alphabet of 26 letters"
      ]
     },
     "execution_count": 3,
     "metadata": {},
     "output_type": "execute_result"
    }
   ],
   "source": [
    "wds = set()\n",
    "with open(\"listeMotsProposables.ts\", encoding=\"utf-8\", mode=\"r\") as f:\n",
    "    for l in f.readlines()[2:-2]:\n",
    "        wds.add(l.strip().split(\",\")[0][1:-1])\n",
    "sutom_dictionary = Dictionary(wds)\n",
    "sutom_dictionary"
   ]
  },
  {
   "cell_type": "markdown",
   "id": "3831ac7c-8279-486a-8486-7dcdff9e124c",
   "metadata": {},
   "source": [
    "### Determine best starters for a SUTOM challenge"
   ]
  },
  {
   "cell_type": "code",
   "execution_count": 4,
   "id": "84bc844e-8961-4d96-ab54-61e222b49beb",
   "metadata": {},
   "outputs": [],
   "source": [
    "nb_letters = 7\n",
    "first_letter = \"V\""
   ]
  },
  {
   "cell_type": "code",
   "execution_count": 5,
   "id": "8f7a1f8d-83ff-4f33-b1d5-113e98ca2404",
   "metadata": {},
   "outputs": [
    {
     "name": "stdout",
     "output_type": "stream",
     "text": [
      "836 words with 7 letters starting with V in SUTOM dictionary\n"
     ]
    }
   ],
   "source": [
    "candidates = sutom_dictionary.sutom_words[nb_letters][first_letter]\n",
    "print(\n",
    "    f\"{len(candidates)} words with {nb_letters} letters starting with {first_letter} in SUTOM dictionary\"\n",
    ")"
   ]
  },
  {
   "cell_type": "code",
   "execution_count": 6,
   "id": "1942cf5a-cf21-422f-ac3e-6a7c01a1b8fd",
   "metadata": {},
   "outputs": [
    {
     "name": "stderr",
     "output_type": "stream",
     "text": [
      "100%|████████████████████████████████████████████████████████████████████████████████| 836/836 [04:34<00:00,  3.04it/s]\n"
     ]
    }
   ],
   "source": [
    "score = defaultdict(int)\n",
    "\n",
    "for candidate in tqdm(candidates):\n",
    "    for target in candidates:\n",
    "        if target == candidate:\n",
    "            score[candidate] += 1\n",
    "        else:\n",
    "            sutom_answers = {candidate: sutom_dictionary.get_answer(candidate, target)}\n",
    "            if (\n",
    "                sutom_dictionary.sutom_max_letter_occurence[candidate] == 1\n",
    "            ):  # no repetition letters:\n",
    "                score[candidate] += len(\n",
    "                    sutom_dictionary.solve(\n",
    "                        nb_letters, first_letter, sutom_answers, no_repetition=True\n",
    "                    )\n",
    "                )\n",
    "            else:\n",
    "                score[candidate] += len(\n",
    "                    sutom_dictionary.solve(nb_letters, first_letter, sutom_answers)\n",
    "                )"
   ]
  },
  {
   "cell_type": "markdown",
   "id": "caab0c24-92f3-49df-8ba2-5f90b7cb468a",
   "metadata": {},
   "source": [
    "### Save best starters list"
   ]
  },
  {
   "cell_type": "code",
   "execution_count": 7,
   "id": "66694c51-90e4-4127-889f-fb669998be43",
   "metadata": {},
   "outputs": [],
   "source": [
    "a = {k: v / len(candidates) for k, v in score.items()}\n",
    "df = pd.DataFrame.from_dict(a, orient=\"index\")\n",
    "file_name = \"./scores/scores_\" + str(nb_letters) + \"_\" + first_letter + \".csv\"\n",
    "df.to_csv(file_name, header=False)"
   ]
  },
  {
   "cell_type": "markdown",
   "id": "de05846e-cfab-4f57-9bce-2ddf954a79f1",
   "metadata": {},
   "source": [
    "### Top ten words to start this SUTOM challenge"
   ]
  },
  {
   "cell_type": "code",
   "execution_count": 8,
   "id": "a0facc37-77de-4bd3-8ffe-64a614f8109d",
   "metadata": {},
   "outputs": [
    {
     "data": {
      "text/plain": [
       "[('VIRALES', 5.937799043062201),\n",
       " ('VIRATES', 5.947368421052632),\n",
       " ('VARIEES', 6.2631578947368425),\n",
       " ('VARIONS', 6.705741626794258),\n",
       " ('VARIETE', 6.837320574162679),\n",
       " ('VASIERE', 6.892344497607655),\n",
       " ('VALINES', 6.9330143540669855),\n",
       " ('VITALES', 7.045454545454546),\n",
       " ('VALISER', 7.119617224880383),\n",
       " ('VETIRAS', 7.157894736842105)]"
      ]
     },
     "execution_count": 8,
     "metadata": {},
     "output_type": "execute_result"
    }
   ],
   "source": [
    "sorted(a.items(), key=lambda x: x[1])[:10]"
   ]
  },
  {
   "cell_type": "code",
   "execution_count": null,
   "id": "71aa5444-8cc2-4e56-884f-15b5d3505d90",
   "metadata": {},
   "outputs": [],
   "source": []
  }
 ],
 "metadata": {
  "kernelspec": {
   "display_name": "Python 3 (ipykernel)",
   "language": "python",
   "name": "python3"
  },
  "language_info": {
   "codemirror_mode": {
    "name": "ipython",
    "version": 3
   },
   "file_extension": ".py",
   "mimetype": "text/x-python",
   "name": "python",
   "nbconvert_exporter": "python",
   "pygments_lexer": "ipython3",
   "version": "3.9.4"
  }
 },
 "nbformat": 4,
 "nbformat_minor": 5
}
