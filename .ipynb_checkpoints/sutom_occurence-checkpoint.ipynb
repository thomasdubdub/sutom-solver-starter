{
 "cells": [
  {
   "cell_type": "markdown",
   "id": "558a8941-1bbe-4e62-8342-6c3f3c3e39d4",
   "metadata": {},
   "source": [
    "# SUTOM occurence"
   ]
  },
  {
   "cell_type": "markdown",
   "id": "68293c21-7714-4694-970f-3c1b5cb24ef5",
   "metadata": {},
   "source": [
    "### Determine occurence of letters in SUTOM dictionary to determine good candidates for first word"
   ]
  },
  {
   "cell_type": "code",
   "execution_count": 1,
   "id": "06ed21a0-7f6a-4939-8c60-34ca773b8e99",
   "metadata": {},
   "outputs": [],
   "source": [
    "%load_ext lab_black"
   ]
  },
  {
   "cell_type": "code",
   "execution_count": 2,
   "id": "ac5be3ba-ee6a-463c-be7e-c8a9e2bbbfab",
   "metadata": {},
   "outputs": [],
   "source": [
    "import itertools\n",
    "from sutom import Dictionary"
   ]
  },
  {
   "cell_type": "markdown",
   "id": "4e5e571c-676e-4ded-bc67-7c058bcc2747",
   "metadata": {},
   "source": [
    "### Download latest word list here: https://framagit.org/JonathanMM/sutom/-/blob/main/ts/mots/listeMotsProposables.ts"
   ]
  },
  {
   "cell_type": "code",
   "execution_count": 3,
   "id": "6193a531-e7e5-4a2e-9213-50d2b2a7aff9",
   "metadata": {},
   "outputs": [
    {
     "name": "stdout",
     "output_type": "stream",
     "text": [
      "149861 words found\n"
     ]
    },
    {
     "data": {
      "text/plain": [
       "Dictionary including 149861 words (size 6 to 9) with alphabet of 26 letters"
      ]
     },
     "execution_count": 3,
     "metadata": {},
     "output_type": "execute_result"
    }
   ],
   "source": [
    "wds = set()\n",
    "with open(\"listeMotsProposables.ts\", encoding=\"utf-8\", mode=\"r\") as f:\n",
    "    for l in f.readlines()[2:-2]:\n",
    "        wds.add(l.strip().split(\",\")[0][1:-1])\n",
    "print(f\"{len(wds)} words found\")  # 05/03/22\n",
    "sutom_dictionary = Dictionary(wds)\n",
    "sutom_dictionary"
   ]
  },
  {
   "cell_type": "markdown",
   "id": "61a64a35-3fd2-4bc4-b901-0012464ddd59",
   "metadata": {},
   "source": [
    "### Analyze letters with highest occurence in SUTOM dictionary"
   ]
  },
  {
   "cell_type": "code",
   "execution_count": 4,
   "id": "516f1846-342e-4b58-adc5-f3749f1217c0",
   "metadata": {},
   "outputs": [
    {
     "data": {
      "text/plain": [
       "{'E': 183036,\n",
       " 'A': 127335,\n",
       " 'S': 106785,\n",
       " 'I': 100737,\n",
       " 'R': 99745,\n",
       " 'T': 79788,\n",
       " 'N': 72099,\n",
       " 'O': 66497,\n",
       " 'U': 50538,\n",
       " 'L': 50299,\n",
       " 'C': 42862,\n",
       " 'M': 30979,\n",
       " 'P': 29603,\n",
       " 'D': 28842,\n",
       " 'G': 23489,\n",
       " 'B': 21602,\n",
       " 'F': 18098,\n",
       " 'H': 14858,\n",
       " 'V': 13927,\n",
       " 'Z': 13751,\n",
       " 'Q': 5521,\n",
       " 'Y': 5328,\n",
       " 'X': 4177,\n",
       " 'J': 3123,\n",
       " 'K': 1280,\n",
       " 'W': 379}"
      ]
     },
     "execution_count": 4,
     "metadata": {},
     "output_type": "execute_result"
    }
   ],
   "source": [
    "sutom_dictionary.letter_occurrences"
   ]
  },
  {
   "cell_type": "markdown",
   "id": "8e70e751-c9e0-48fd-9398-78846fd16885",
   "metadata": {},
   "source": [
    "### Find good candidates to start a SUTOM challenge, i.e. various letters from the top letters"
   ]
  },
  {
   "cell_type": "code",
   "execution_count": 5,
   "id": "fd1e222c-6495-405c-bb24-cc0130e094a9",
   "metadata": {},
   "outputs": [],
   "source": [
    "def get_words(nb_letters, first_letter):\n",
    "    candidates = []\n",
    "    nb_top_letters = nb_letters - 1\n",
    "    while len(candidates) == 0:\n",
    "        letters = \"\"\n",
    "        for i, k in enumerate(sutom_dictionary.letter_occurrences.keys()):\n",
    "            if i < nb_top_letters:\n",
    "                if k == first_letter:\n",
    "                    continue\n",
    "                else:\n",
    "                    letters += k\n",
    "        if len(letters) >= nb_letters - 1:\n",
    "            perms = [\n",
    "                \"\".join(x) for x in itertools.permutations(letters, nb_letters - 1)\n",
    "            ]\n",
    "            for perm in perms:\n",
    "                test_wd = first_letter + perm\n",
    "                if test_wd in sutom_dictionary:\n",
    "                    candidates.append(test_wd)\n",
    "        nb_top_letters += 1\n",
    "    return candidates"
   ]
  },
  {
   "cell_type": "code",
   "execution_count": 6,
   "id": "4f45d33b-a1d5-4252-b28b-76f0fa3d9647",
   "metadata": {},
   "outputs": [
    {
     "data": {
      "text/plain": [
       "['LAITERONS']"
      ]
     },
     "execution_count": 6,
     "metadata": {},
     "output_type": "execute_result"
    }
   ],
   "source": [
    "nb_letters = 9\n",
    "first_letter = \"L\"\n",
    "get_words(nb_letters, first_letter)"
   ]
  },
  {
   "cell_type": "code",
   "execution_count": 7,
   "id": "7af33054-0976-4ce7-a6a5-667a41bf0112",
   "metadata": {},
   "outputs": [
    {
     "data": {
      "text/plain": [
       "['FERAIS', 'FIERAS', 'FRESIA', 'FRAIES', 'FRAISE']"
      ]
     },
     "execution_count": 7,
     "metadata": {},
     "output_type": "execute_result"
    }
   ],
   "source": [
    "nb_letters = 8\n",
    "first_letter = \"R\"\n",
    "get_words(nb_letters, first_letter)"
   ]
  }
 ],
 "metadata": {
  "kernelspec": {
   "display_name": "Python 3 (ipykernel)",
   "language": "python",
   "name": "python3"
  },
  "language_info": {
   "codemirror_mode": {
    "name": "ipython",
    "version": 3
   },
   "file_extension": ".py",
   "mimetype": "text/x-python",
   "name": "python",
   "nbconvert_exporter": "python",
   "pygments_lexer": "ipython3",
   "version": "3.9.4"
  }
 },
 "nbformat": 4,
 "nbformat_minor": 5
}
